{
 "cells": [
  {
   "cell_type": "code",
   "execution_count": 37,
   "metadata": {},
   "outputs": [],
   "source": [
    "import pandas as pd\n",
    "\n",
    "dev_path = '/home/ffajri/Data/story_cloze/cloze_test_val__spring2016 - cloze_test_ALL_val.csv'\n",
    "test_path = '/home/ffajri/Data/story_cloze/cloze_test_test__spring2016 - cloze_test_ALL_test.csv'"
   ]
  },
  {
   "cell_type": "code",
   "execution_count": 39,
   "metadata": {},
   "outputs": [],
   "source": [
    "TRAIN_SIZE=1683\n",
    "DEV_SIZE=188\n",
    "\n",
    "df_dev = pd.read_csv(dev_path)\n",
    "df_test = pd.read_csv(test_path)\n",
    "df_dev = df_dev.sample(frac=1).reset_index(drop=True)\n",
    "df_train = df_dev [0:TRAIN_SIZE].reset_index(drop=True)\n",
    "df_dev = df_dev[TRAIN_SIZE:].reset_index(drop=True)"
   ]
  },
  {
   "cell_type": "code",
   "execution_count": 40,
   "metadata": {},
   "outputs": [
    {
     "name": "stdout",
     "output_type": "stream",
     "text": [
      "mkdir: cannot create directory ‘data’: File exists\r\n"
     ]
    }
   ],
   "source": [
    "!mkdir data\n",
    "\n",
    "df_train.to_csv('data/train.csv', index=False)\n",
    "df_dev.to_csv('data/dev.csv', index=False)\n",
    "df_test.to_csv('data/test.csv', index=False)"
   ]
  }
 ],
 "metadata": {
  "kernelspec": {
   "display_name": "Python 3",
   "language": "python",
   "name": "python3"
  },
  "language_info": {
   "codemirror_mode": {
    "name": "ipython",
    "version": 3
   },
   "file_extension": ".py",
   "mimetype": "text/x-python",
   "name": "python",
   "nbconvert_exporter": "python",
   "pygments_lexer": "ipython3",
   "version": "3.7.6"
  }
 },
 "nbformat": 4,
 "nbformat_minor": 4
}
